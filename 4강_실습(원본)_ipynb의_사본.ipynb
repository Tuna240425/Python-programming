{
  "nbformat": 4,
  "nbformat_minor": 0,
  "metadata": {
    "colab": {
      "provenance": []
    },
    "kernelspec": {
      "name": "python3",
      "display_name": "Python 3"
    },
    "language_info": {
      "name": "python"
    }
  },
  "cells": [
    {
      "cell_type": "markdown",
      "source": [
        "# 4강 1절"
      ],
      "metadata": {
        "id": "8qm2njbqj44L"
      }
    },
    {
      "cell_type": "code",
      "source": [
        "3.141592"
      ],
      "metadata": {
        "id": "WynU0zNrzuun",
        "outputId": "ec49e2c4-d304-4d22-e81c-2096dcfb72bc",
        "colab": {
          "base_uri": "https://localhost:8080/"
        }
      },
      "execution_count": null,
      "outputs": [
        {
          "output_type": "execute_result",
          "data": {
            "text/plain": [
              "3.141592"
            ]
          },
          "metadata": {},
          "execution_count": 1
        }
      ]
    },
    {
      "cell_type": "code",
      "source": [
        "\"Computer\""
      ],
      "metadata": {
        "colab": {
          "base_uri": "https://localhost:8080/",
          "height": 36
        },
        "id": "zZuufMYcz-rf",
        "outputId": "3d55253e-a832-42c3-e920-0ac5877eb2ed"
      },
      "execution_count": 1,
      "outputs": [
        {
          "output_type": "execute_result",
          "data": {
            "text/plain": [
              "'Computer'"
            ],
            "application/vnd.google.colaboratory.intrinsic+json": {
              "type": "string"
            }
          },
          "metadata": {},
          "execution_count": 1
        }
      ]
    },
    {
      "cell_type": "code",
      "source": [
        "\"Hello World!\""
      ],
      "metadata": {
        "id": "Rupa9hQnfVSx",
        "colab": {
          "base_uri": "https://localhost:8080/",
          "height": 36
        },
        "outputId": "78556a07-b2e5-4bbf-81e9-0de34b260031"
      },
      "execution_count": 3,
      "outputs": [
        {
          "output_type": "execute_result",
          "data": {
            "text/plain": [
              "'Hello World!'"
            ],
            "application/vnd.google.colaboratory.intrinsic+json": {
              "type": "string"
            }
          },
          "metadata": {},
          "execution_count": 3
        }
      ]
    },
    {
      "cell_type": "code",
      "source": [
        "(7+15)*2"
      ],
      "metadata": {
        "colab": {
          "base_uri": "https://localhost:8080/"
        },
        "id": "uezX6ARq0acd",
        "outputId": "19b259c1-d957-42d9-d6b2-f1fbc954c647"
      },
      "execution_count": 5,
      "outputs": [
        {
          "output_type": "execute_result",
          "data": {
            "text/plain": [
              "44"
            ]
          },
          "metadata": {},
          "execution_count": 5
        }
      ]
    },
    {
      "cell_type": "code",
      "source": [
        "2**10"
      ],
      "metadata": {
        "colab": {
          "base_uri": "https://localhost:8080/"
        },
        "id": "mRISVa_f0ksQ",
        "outputId": "a2cdd9b2-1043-4618-98d1-a256689a56d8"
      },
      "execution_count": 6,
      "outputs": [
        {
          "output_type": "execute_result",
          "data": {
            "text/plain": [
              "1024"
            ]
          },
          "metadata": {},
          "execution_count": 6
        }
      ]
    },
    {
      "cell_type": "code",
      "source": [
        "\"computer\"+\"science\""
      ],
      "metadata": {
        "colab": {
          "base_uri": "https://localhost:8080/",
          "height": 36
        },
        "id": "3PHR28SP0rBr",
        "outputId": "5da40984-7098-45c2-862c-7081ea25bf70"
      },
      "execution_count": 7,
      "outputs": [
        {
          "output_type": "execute_result",
          "data": {
            "text/plain": [
              "'computerscience'"
            ],
            "application/vnd.google.colaboratory.intrinsic+json": {
              "type": "string"
            }
          },
          "metadata": {},
          "execution_count": 7
        }
      ]
    },
    {
      "cell_type": "code",
      "source": [
        "\"computer\"*2"
      ],
      "metadata": {
        "colab": {
          "base_uri": "https://localhost:8080/",
          "height": 36
        },
        "id": "4s2YwgPG03J1",
        "outputId": "e5cfc008-1cca-4a09-e3fe-7c0c38d8345d"
      },
      "execution_count": 8,
      "outputs": [
        {
          "output_type": "execute_result",
          "data": {
            "text/plain": [
              "'computercomputer'"
            ],
            "application/vnd.google.colaboratory.intrinsic+json": {
              "type": "string"
            }
          },
          "metadata": {},
          "execution_count": 8
        }
      ]
    },
    {
      "cell_type": "code",
      "source": [
        "print(\"Hello World!\")\n",
        "print(\"Python is Fun\")"
      ],
      "metadata": {
        "colab": {
          "base_uri": "https://localhost:8080/"
        },
        "id": "3SlD_7n31QS5",
        "outputId": "27c84305-9965-4360-e0fb-e6208636574b"
      },
      "execution_count": 14,
      "outputs": [
        {
          "output_type": "stream",
          "name": "stdout",
          "text": [
            "Hello World!\n",
            "Python is Fun\n"
          ]
        }
      ]
    },
    {
      "cell_type": "code",
      "source": [
        "# 학점 계산\n",
        "print((4.5*2+4.0*3)/2)"
      ],
      "metadata": {
        "colab": {
          "base_uri": "https://localhost:8080/"
        },
        "id": "T6FdwEEk1ycN",
        "outputId": "d55737d1-6b62-46ef-b4b3-4addc631ac1f"
      },
      "execution_count": 15,
      "outputs": [
        {
          "output_type": "stream",
          "name": "stdout",
          "text": [
            "10.5\n"
          ]
        }
      ]
    },
    {
      "cell_type": "markdown",
      "source": [
        "# 4강 2절"
      ],
      "metadata": {
        "id": "XA4yR0RDjgNl"
      }
    },
    {
      "cell_type": "code",
      "source": [
        "#반지름, 높이 값 할당\n",
        "rad = 40\n",
        "hei = 10\n",
        "#부피 출력\n",
        "print(1 / 3 * 3.14 * rad ** 2 * hei )\n",
        "#겉넓이 출력\n",
        "print(3.14 * rad ** 2 + 3.14 * rad * hei)"
      ],
      "metadata": {
        "id": "buMmaXCXjk6D",
        "colab": {
          "base_uri": "https://localhost:8080/"
        },
        "outputId": "ca07e5f8-7d49-4501-f83d-bda495ea9480"
      },
      "execution_count": 17,
      "outputs": [
        {
          "output_type": "stream",
          "name": "stdout",
          "text": [
            "16746.666666666664\n",
            "6280.0\n"
          ]
        }
      ]
    },
    {
      "cell_type": "code",
      "source": [
        "round(3.141592)"
      ],
      "metadata": {
        "colab": {
          "base_uri": "https://localhost:8080/"
        },
        "id": "IfsGgkdT5tUN",
        "outputId": "0520a6d2-2b4b-43f7-a69a-d05bf6ddb1ba"
      },
      "execution_count": 25,
      "outputs": [
        {
          "output_type": "execute_result",
          "data": {
            "text/plain": [
              "3"
            ]
          },
          "metadata": {},
          "execution_count": 25
        }
      ]
    },
    {
      "cell_type": "code",
      "source": [],
      "metadata": {
        "id": "GB2ABM--6GVc"
      },
      "execution_count": null,
      "outputs": []
    }
  ]
}