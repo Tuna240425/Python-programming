{
  "nbformat": 4,
  "nbformat_minor": 0,
  "metadata": {
    "colab": {
      "provenance": [],
      "include_colab_link": true
    },
    "kernelspec": {
      "name": "python3",
      "display_name": "Python 3"
    },
    "language_info": {
      "name": "python"
    }
  },
  "cells": [
    {
      "cell_type": "markdown",
      "metadata": {
        "id": "view-in-github",
        "colab_type": "text"
      },
      "source": [
        "<a href=\"https://colab.research.google.com/github/Tuna240425/Python-programming/blob/main/11%EA%B0%95_%EC%8B%A4%EC%8A%B5(%EC%9B%90%EB%B3%B8).ipynb\" target=\"_parent\"><img src=\"https://colab.research.google.com/assets/colab-badge.svg\" alt=\"Open In Colab\"/></a>"
      ]
    },
    {
      "cell_type": "markdown",
      "source": [
        "# 11강 실습"
      ],
      "metadata": {
        "id": "EtjZiTaxLjdH"
      }
    },
    {
      "cell_type": "markdown",
      "source": [
        "**11강 1절 모듈의 이해**"
      ],
      "metadata": {
        "id": "dM5Jl78KLnIG"
      }
    },
    {
      "cell_type": "markdown",
      "source": [
        "dir, help 함수 테스트"
      ],
      "metadata": {
        "id": "jLudepg7Lv6Y"
      }
    },
    {
      "cell_type": "code",
      "execution_count": 4,
      "metadata": {
        "id": "QjtNEdkcynR7",
        "colab": {
          "base_uri": "https://localhost:8080/"
        },
        "outputId": "e34414a2-1feb-493c-d8ef-c6a5814c205f"
      },
      "outputs": [
        {
          "output_type": "stream",
          "name": "stdout",
          "text": [
            "Help on built-in function gamma in module math:\n",
            "\n",
            "gamma(x, /)\n",
            "    Gamma function at x.\n",
            "\n"
          ]
        }
      ],
      "source": [
        "import math\n",
        "\n",
        "help(math.gamma)"
      ]
    },
    {
      "cell_type": "markdown",
      "source": [
        "math 모듈을 사용한 원뿔 계산 프로그램"
      ],
      "metadata": {
        "id": "BZcxx1KcM2eF"
      }
    },
    {
      "cell_type": "code",
      "source": [
        "import math\n",
        "\n",
        "print(math.pi)\n",
        "\n",
        "# 원뿔 클래스 정의\n",
        "class Cone :\n",
        "    def __init__(self, radius = 20, height = 30):\n",
        "        self.r = radius\n",
        "        self.h = height\n",
        "\n",
        "    def get_vol(self) :\n",
        "        return 1/3 * math.pi * self.r ** 2 * self.h\n",
        "\n",
        "    def get_surf(self) :\n",
        "        return math.pi * self.r ** 2 + math.pi * self.r * self.h\n"
      ],
      "metadata": {
        "id": "ZJwXQoQIM7uw",
        "colab": {
          "base_uri": "https://localhost:8080/"
        },
        "outputId": "51c06241-4264-4a95-f038-a853b763ca83"
      },
      "execution_count": 7,
      "outputs": [
        {
          "output_type": "stream",
          "name": "stdout",
          "text": [
            "3.141592653589793\n"
          ]
        }
      ]
    },
    {
      "cell_type": "markdown",
      "source": [
        "**11강 2절 유용한 모듈**"
      ],
      "metadata": {
        "id": "MwGVxn3sLy8T"
      }
    },
    {
      "cell_type": "markdown",
      "source": [
        "두 변의 길이 a, b와 끼인각 α인 삼각형의 넓이를 구하는 프로그램을 작성하시오.\n"
      ],
      "metadata": {
        "id": "A2gzGR3nM8nI"
      }
    },
    {
      "cell_type": "code",
      "source": [
        "import math\n",
        "from math import sin\n",
        "\n",
        "a, b = 10, 20\n",
        "\n",
        "area = 1 / 2 * a * b * math.sin(math.radians(60))\n",
        "\n",
        "print(area)"
      ],
      "metadata": {
        "id": "CK6KXvIv3IZV",
        "colab": {
          "base_uri": "https://localhost:8080/"
        },
        "outputId": "2217d4a7-7177-4bb8-b386-7413abc6e176"
      },
      "execution_count": 10,
      "outputs": [
        {
          "output_type": "stream",
          "name": "stdout",
          "text": [
            "86.60254037844386\n"
          ]
        }
      ]
    },
    {
      "cell_type": "markdown",
      "source": [
        "1 ~ 45 숫자 6개를 입력 받아 당첨 숫자와\n",
        "비교하는 프로그램을 작성하시오.\n"
      ],
      "metadata": {
        "id": "UP6aKi22RoxB"
      }
    },
    {
      "cell_type": "code",
      "source": [
        "import random\n",
        "\n",
        "guess_str = input(\"1~45 번호 6개를 쉼표로 분리하여 입력하세요: \").split(\", \")\n",
        "guess_list = list()\n",
        "\n",
        "for i in guess_str:\n",
        "    guess_list.append(int(i))\n",
        "\n",
        "lotto_list = random.sample(range(1, 46, 1), 6)\n",
        "\n",
        "print(\"예상 번호는\", guess_list, \"입니다.\")\n",
        "print(\"추첨 번호는\", lotto_list, \"입니다.\")\n",
        "\n",
        "hit_count = 0;\n",
        "\n",
        "for i in guess_list:\n",
        "    if i in lotto_list:\n",
        "        hit_count = hit_count + 1\n",
        "\n",
        "print(\"축하합니다\" + str(hit_count) + \"개 맞혔습니다.\")"
      ],
      "metadata": {
        "id": "Btr-jR2m3KZA",
        "colab": {
          "base_uri": "https://localhost:8080/"
        },
        "outputId": "1d01c538-2452-4b4c-e1bc-69466ce89d90"
      },
      "execution_count": 13,
      "outputs": [
        {
          "output_type": "stream",
          "name": "stdout",
          "text": [
            "1~45 번호 6개를 쉼표로 분리하여 입력하세요: 1, 3, 10, 11, 4, 2\n",
            "예상 번호는 [1, 3, 10, 11, 4, 2] 입니다.\n",
            "추첨 번호는 [36, 14, 4, 28, 22, 17] 입니다.\n",
            "축하합니다1개 맞혔습니다.\n"
          ]
        }
      ]
    },
    {
      "cell_type": "markdown",
      "source": [
        "20번의 기회 안에 1 ~ 1000 사이의 숫자를\n",
        "맞히는 스무고개 프로그램을 작성하시오.\n"
      ],
      "metadata": {
        "id": "dZ3mQM7hR7z5"
      }
    },
    {
      "cell_type": "code",
      "source": [
        "import random\n",
        "\n",
        "hit_number = random.randint(1, 1001)\n",
        "\n",
        "guess_count_list = range(1, 21, 1)\n",
        "\n",
        "for guess_count in guess_count_list:\n",
        "\n",
        "    guess = int(input(\"숫자를 맞춰보세요(\" + str(guess_count)+\"번째 시도):\"))\n",
        "\n",
        "    if hit_number == guess:\n",
        "        passfail = True\n",
        "    elif hit_number > guess:\n",
        "        print(str(\"guess\") + \"보다 큽니다.\", end =\"\")\n",
        "    else:\n",
        "        hit_number < guess\n",
        "        print(str(\"guess\") + \"보다 작습니다\", end=\"\")\n",
        "\n",
        "if passfail == True:\n",
        "    print(\"맞췄습니다. 축하합니다.\")\n",
        "else:\n",
        "    print(\"모든 기회를 다 사용하셨습니다. 다음에 다시 도전하세요\")"
      ],
      "metadata": {
        "id": "XhmZvkWVSA9Z",
        "colab": {
          "base_uri": "https://localhost:8080/",
          "height": 110
        },
        "outputId": "7124b32c-878a-46ca-89b7-01b1676cd211"
      },
      "execution_count": 14,
      "outputs": [
        {
          "output_type": "error",
          "ename": "SyntaxError",
          "evalue": "invalid syntax (<ipython-input-14-3f08d2f49a57>, line 16)",
          "traceback": [
            "\u001b[0;36m  File \u001b[0;32m\"<ipython-input-14-3f08d2f49a57>\"\u001b[0;36m, line \u001b[0;32m16\u001b[0m\n\u001b[0;31m    hit_number < guess:\u001b[0m\n\u001b[0m                      ^\u001b[0m\n\u001b[0;31mSyntaxError\u001b[0m\u001b[0;31m:\u001b[0m invalid syntax\n"
          ]
        }
      ]
    },
    {
      "cell_type": "markdown",
      "source": [
        "1000보다 작은 소수 찾기 프로그램"
      ],
      "metadata": {
        "id": "EdHUe1hr3bho"
      }
    },
    {
      "cell_type": "code",
      "source": [],
      "metadata": {
        "id": "b0odUfVq3bNF"
      },
      "execution_count": null,
      "outputs": []
    }
  ]
}